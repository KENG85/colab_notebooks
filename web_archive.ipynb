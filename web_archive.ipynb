{
  "nbformat": 4,
  "nbformat_minor": 0,
  "metadata": {
    "colab": {
      "name": "web-archive.ipynb",
      "provenance": [],
      "toc_visible": true,
      "authorship_tag": "ABX9TyOeaJ7qkFL9KUkx9ob6yxic",
      "include_colab_link": true
    },
    "kernelspec": {
      "name": "python3",
      "display_name": "Python 3"
    },
    "language_info": {
      "name": "python"
    }
  },
  "cells": [
    {
      "cell_type": "markdown",
      "metadata": {
        "id": "view-in-github",
        "colab_type": "text"
      },
      "source": [
        "<a href=\"https://colab.research.google.com/github/KENG85/colab_notebooks/blob/main/web_archive.ipynb\" target=\"_parent\"><img src=\"https://colab.research.google.com/assets/colab-badge.svg\" alt=\"Open In Colab\"/></a>"
      ]
    },
    {
      "cell_type": "markdown",
      "metadata": {
        "id": "L_F3p-G_mPEX"
      },
      "source": [
        "#Web Archive Project\n",
        "I created this simple web scrape to pull articles from the web so that athletes have a spreadsheet of articles that mention them. \n",
        "\n",
        "If you want to use this notebook, just make sure the search term is specific.  A name like Johnson is very general, you would want to update the query to say, for example, \"Samantha Johnson Soccer\" rather than \"Sam Johnson\". \n",
        "\n",
        "Check some of the links, if they're not accurate you may need to be more specefic with your search query. \n",
        "\n",
        "You can also adjust the number of articles pulled from google.  That is noted below."
      ]
    },
    {
      "cell_type": "markdown",
      "metadata": {
        "id": "VH5EBuKw4n-w"
      },
      "source": [
        "\n",
        "\n",
        "---\n",
        "\n",
        "\n",
        "**Mount Drive >> Enter Search Query >> Scrape Web >> Save to CSV**\n",
        "\n",
        "\n",
        "---\n",
        "\n"
      ]
    },
    {
      "cell_type": "markdown",
      "metadata": {
        "id": "fy9gqdaunPd1"
      },
      "source": [
        "#1) Create A Connection to Drive"
      ]
    },
    {
      "cell_type": "code",
      "metadata": {
        "id": "O_9JdwTx4saw"
      },
      "source": [
        "#mount your google drive to create a secure connection\n",
        "def mount_google_drive(force_remount=True):\n",
        "    from google.colab import drive\n",
        "    print('drive_filepath=\"drive/My Drive/\"')\n",
        "    return drive.mount('/content/drive', force_remount=force_remount)"
      ],
      "execution_count": null,
      "outputs": []
    },
    {
      "cell_type": "code",
      "metadata": {
        "colab": {
          "base_uri": "https://localhost:8080/"
        },
        "id": "EnY-LRJtELYg",
        "outputId": "faf514dd-ec3d-495d-be05-e706acb52fa0"
      },
      "source": [
        "#run the connection\n",
        "mount_google_drive()"
      ],
      "execution_count": null,
      "outputs": [
        {
          "output_type": "stream",
          "text": [
            "drive_filepath=\"drive/My Drive/\"\n",
            "Mounted at /content/drive\n"
          ],
          "name": "stdout"
        }
      ]
    },
    {
      "cell_type": "markdown",
      "metadata": {
        "id": "mTKPESUqnlcy"
      },
      "source": [
        "# 2) Install Libraries\n",
        "There are some extra libraries included as I had additional code that I removed.  If you get an error, run \n",
        "!pip install [name of the library] to get the library installed. "
      ]
    },
    {
      "cell_type": "code",
      "metadata": {
        "id": "dpSGXDOw3iHc"
      },
      "source": [
        "import pandas as pd\n",
        "import requests\n",
        "import time\n",
        "import re\n",
        "import google\n",
        "from pprint import pprint"
      ],
      "execution_count": null,
      "outputs": []
    },
    {
      "cell_type": "markdown",
      "metadata": {
        "id": "zVFqJ5HYn5gi"
      },
      "source": [
        "##Test that google search is working"
      ]
    },
    {
      "cell_type": "code",
      "metadata": {
        "id": "lpKNoHV6O9qh"
      },
      "source": [
        "#check for module \n",
        "try:\n",
        "\tfrom googlesearch import search\n",
        "except ImportError:\n",
        "\tprint(\"No module named 'google' found\")"
      ],
      "execution_count": null,
      "outputs": []
    },
    {
      "cell_type": "markdown",
      "metadata": {
        "id": "pyDJEroJn-gf"
      },
      "source": [
        "#3) Create the webscrape\n",
        "change the query variable to the search term"
      ]
    },
    {
      "cell_type": "markdown",
      "metadata": {
        "id": "zZN8nEa1baSY"
      },
      "source": [
        "###Enter your query - EDIT THE SEARCH HERE"
      ]
    },
    {
      "cell_type": "code",
      "metadata": {
        "id": "TNJx5zNN2pMj"
      },
      "source": [
        "# ===========QUERY==================\n",
        "#Leave the quotations and change the term to search\n",
        "query = \"Samantha Johnson Soccer\""
      ],
      "execution_count": null,
      "outputs": []
    },
    {
      "cell_type": "markdown",
      "metadata": {
        "id": "UeoFCCYp3fG4"
      },
      "source": [
        "##Scrape\n",
        "do not edit unless you are changing the num= and stop= to increase or decrease the number of articles pulled.  If your query does not have a lot of content, you should reduce the number so that only the top links (most relevant) are archived.  For example if the first 10 only are related to your query then change the numb and stop to 10. "
      ]
    },
    {
      "cell_type": "code",
      "metadata": {
        "colab": {
          "base_uri": "https://localhost:8080/"
        },
        "id": "k-eVz0DvI1ZV",
        "outputId": "e1b9a029-7bdb-447f-baff-0e5401acc949"
      },
      "source": [
        "#=====don't edit below this line====\n",
        "links = []\n",
        "\n",
        "\n",
        "#============SCRAPE==================\n",
        "#change num and stop only\n",
        "for url in search(query, tld=\"co.in\", num=50, stop=50, pause=2):\n",
        "  try:\n",
        "        response = requests.get(url, timeout=3)\n",
        "        time.sleep(.2)\n",
        "        links.append([url,response])\n",
        "        print('Status code: ',response.status_code, {url})\n",
        "  except:\n",
        "        print(\"link not found.\")\n",
        "  "
      ],
      "execution_count": null,
      "outputs": [
        {
          "output_type": "stream",
          "text": [
            "Status code:  200 {'https://en.wikipedia.org/wiki/Samantha_Johnson'}\n",
            "Status code:  200 {'https://en.wikipedia.org/wiki/Samantha_Johnson#College_career'}\n",
            "Status code:  200 {'https://en.wikipedia.org/wiki/Samantha_Johnson#Club_career'}\n",
            "Status code:  200 {'https://en.wikipedia.org/wiki/Samantha_Johnson#Chicago_Red_Stars_(2014%E2%80%932018)'}\n",
            "Status code:  200 {'https://en.wikipedia.org/wiki/Samantha_Johnson#Utah_Royals_FC_(2018%E2%80%932019)'}\n",
            "Status code:  429 {'https://www.instagram.com/dreamonrose/?hl=en'}\n",
            "Status code:  200 {'https://twitter.com/dreamonrose?lang=en'}\n",
            "Status code:  200 {'https://www.bgn.fm/samantha-johnson-is-back-and-ready-to-get-everything-she-can-from-the-game-she-loves/'}\n",
            "Status code:  200 {'https://usctrojans.com/sports/womens-soccer/roster/samantha-johnson/2761'}\n",
            "Status code:  200 {'https://www.espn.com/soccer/soccer-transfers/story/4248453/ex-utah-royals-defender-samantha-johnson-joins-melbourne-city'}\n",
            "Status code:  200 {'https://globalsportsarchive.com/people/soccer/samantha-johnson/355780/'}\n",
            "Status code:  200 {'https://uiwcardinals.com/sports/womens-soccer/roster/samantha-johnson/2449'}\n",
            "Status code:  200 {'https://www.youtube.com/watch?v=rdTkRVGDODA'}\n",
            "Status code:  200 {'https://tribeathletics.com/sports/womens-soccer/roster/samantha-johnson/7436'}\n",
            "Status code:  200 {'https://www.afrugalathlete.com/blog/2017/11/15/samantha-johnson'}\n",
            "Status code:  200 {'https://www.deseret.com/2019/7/16/8936599/i-wasn-t-willing-to-compromise-my-happiness-former-utah-royals-fc-center-back-sam-johnson-opens-up-a'}\n",
            "Status code:  200 {'http://www.samanthajohnson.co/find-us'}\n",
            "Status code:  200 {'https://equalizersoccer.com/tag/samantha-johnson/'}\n",
            "Status code:  200 {'https://summit.americascoresbayarea.org/speakers/samantha-johnson/'}\n",
            "Status code:  200 {'https://www.rslsoapbox.com/2019/12/22/21034321/2019-royals-player-profiles-samantha-johnson'}\n",
            "Status code:  406 {'https://beyond90.com.au/samantha-johnson-two-sides-aligned/'}\n",
            "Status code:  200 {'https://www.facebook.com/palmdaleschooldistrict/videos/retired-professional-soccer-player-samantha-johnson-from-the-palmdale-school-dis/547977082458006/?extid=SEO----'}\n",
            "Status code:  406 {'https://nutsandboltssports.com/samantha-johnson-movers-and-shakers-series/'}\n",
            "Status code:  200 {'https://www.foxsports.com/soccer/samantha-johnson-player-stats'}\n",
            "Status code:  200 {'https://goashlandeagles.com/sports/womens-soccer/roster/samantha-johnson/4299'}\n",
            "Status code:  200 {'https://www.foxsports.com/soccer/samantha-johnson-player-stats?category=control'}\n",
            "Status code:  200 {'https://commons.wikimedia.org/wiki/Category:Samantha_Johnson'}\n",
            "Status code:  200 {'https://www.sltrib.com/sports/2019/06/29/utah-royals-lose/'}\n",
            "Status code:  404 {'https://www.newsbreak.com/channels/p-samantha-johnson'}\n",
            "Status code:  999 {'https://au.linkedin.com/in/samantha-martel-johnson-535aa518a'}\n",
            "Status code:  200 {'https://www.yahoo.com/entertainment/pass-her-the-mic-samantha-johnson-womens-soccer-120033988.html'}\n",
            "Status code:  200 {'https://soundcloud.com/user-420148649/episode-14-samantha-johnson'}\n",
            "Status code:  200 {'https://www.ncsasports.org/womens-soccer-recruiting/new-mexico/albuquerque/la-cueva-high-school/samantha-johnson10'}\n",
            "Status code:  403 {'https://www.zoominfo.com/p/Samantha-Johnson/3377758891'}\n",
            "Status code:  200 {'https://formula.ffc.com/fitness/info/how-to-train-like-chicago-pro-soccer-player-samantha-johnson/'}\n",
            "Status code:  200 {'https://csssaints.com/sports/womens-soccer/roster/samantha-johnson/478'}\n",
            "Status code:  200 {'https://playerswiki.com/samantha-johnson'}\n",
            "Status code:  200 {'https://icdb.tv/stats/8343/Samantha-Johnson'}\n",
            "Status code:  200 {'https://www.wikidata.org/wiki/Q16965103'}\n",
            "Status code:  200 {'https://www.horizonsunitedfc.com/post/samantha-m-johnson-s-story'}\n",
            "Status code:  200 {'https://www.celebsagewiki.com/samantha-johnson'}\n",
            "Status code:  403 {'https://www.athletesforhope.org/2017/05/do-the-write-thing/'}\n",
            "Status code:  200 {'https://www.avpress.com/sports/following-a-new-path/article_bbe5306e-f494-11e9-b1ca-b7bf30596bd6.html'}\n",
            "Status code:  200 {'https://www.pinterest.com/pin/250301691775304239/'}\n",
            "Status code:  403 {'https://us.soccerway.com/players/samantha-johnson/336152/'}\n",
            "Status code:  200 {'https://www.ltcathletics.com/sports/volleyball/2019-2020/samantha-johnson/'}\n",
            "Status code:  200 {'https://lucylaurita.com.au/samantha-johnson/'}\n",
            "Status code:  200 {'https://www.goal.com/en-gb/news/when-is-the-2020-olympics-womens-soccer-draw-who-could-uswnt/v48jgtwgdyet1eq4yd1eobe55'}\n",
            "Status code:  200 {'http://www.xgames.com/au/espnw/article/23308079/what-athletes-eat-soccer-player-samantha-johnson-avocado-blue-cheese-chopped-salad'}\n",
            "Status code:  200 {'https://isiphotos.photoshelter.com/image/I0000KDhd9WD9Y2A'}\n"
          ],
          "name": "stdout"
        }
      ]
    },
    {
      "cell_type": "code",
      "metadata": {
        "id": "DHz1ZtLLCOzd"
      },
      "source": [
        "links = pd.DataFrame(links)\n",
        "#change the file name to whatever you want to save as locally.\n",
        "links.to_csv('samantha.csv')"
      ],
      "execution_count": null,
      "outputs": []
    },
    {
      "cell_type": "code",
      "metadata": {
        "id": "eD1pP4pCegQ3"
      },
      "source": [
        "#If the file doesn't save, you may need to specify a directory.\n",
        "!cp samantha.csv \"drive/My Drive/Colab Notebooks/\""
      ],
      "execution_count": null,
      "outputs": []
    }
  ]
}