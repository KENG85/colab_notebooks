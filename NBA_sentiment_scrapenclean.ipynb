{
  "nbformat": 4,
  "nbformat_minor": 0,
  "metadata": {
    "colab": {
      "name": "1-Scrape&Clean.ipynb",
      "provenance": [],
      "authorship_tag": "ABX9TyNKV3V4P4Iz8LA8r5nIgYNZ",
      "include_colab_link": true
    },
    "kernelspec": {
      "name": "python3",
      "display_name": "Python 3"
    },
    "language_info": {
      "name": "python"
    }
  },
  "cells": [
    {
      "cell_type": "markdown",
      "metadata": {
        "id": "view-in-github",
        "colab_type": "text"
      },
      "source": [
        "<a href=\"https://colab.research.google.com/github/KENG85/colab_notebooks/blob/main/NBA_sentiment_scrapenclean.ipynb\" target=\"_parent\"><img src=\"https://colab.research.google.com/assets/colab-badge.svg\" alt=\"Open In Colab\"/></a>"
      ]
    },
    {
      "cell_type": "code",
      "metadata": {
        "id": "H23HDu7eDbuH"
      },
      "source": [
        "#mount your google drive to create a secure connection\n",
        "def mount_google_drive(force_remount=True):\n",
        "    from google.colab import drive\n",
        "    print('drive_filepath=\"drive/My Drive/\"')\n",
        "    return drive.mount('/content/drive', force_remount=force_remount)"
      ],
      "execution_count": null,
      "outputs": []
    },
    {
      "cell_type": "code",
      "metadata": {
        "colab": {
          "base_uri": "https://localhost:8080/"
        },
        "id": "H2CKnMHdDd_J",
        "outputId": "9c86b876-79c9-4e1e-f823-9e3d5178f951"
      },
      "source": [
        "#run the connection\n",
        "mount_google_drive()"
      ],
      "execution_count": null,
      "outputs": [
        {
          "output_type": "stream",
          "text": [
            "drive_filepath=\"drive/My Drive/\"\n",
            "Mounted at /content/drive\n"
          ],
          "name": "stdout"
        }
      ]
    },
    {
      "cell_type": "code",
      "metadata": {
        "id": "B0JSRstoBBnp"
      },
      "source": [
        "# Dependencies\n",
        "import pandas as pd\n",
        "import json\n",
        "#import gmaps\n",
        "import requests\n",
        "import numpy as np\n",
        "import pandas as pd\n",
        "import matplotlib.pyplot as plt\n",
        "import time\n",
        "import re\n",
        "import google\n",
        "from bs4 import BeautifulSoup as bs, NavigableString as ns\n",
        "from pprint import pprint"
      ],
      "execution_count": null,
      "outputs": []
    },
    {
      "cell_type": "code",
      "metadata": {
        "colab": {
          "base_uri": "https://localhost:8080/"
        },
        "id": "N3-CON8FHdrx",
        "outputId": "0c268865-213d-440b-a42d-105bf4b1715c"
      },
      "source": [
        "#archive page\n",
        "transcript_url = 'http://www.asapsports.com/show_event.php?category=11&date=2021-7-10&title=NBA+FINALS%3A+BUCKS+VS.+SUNS'\n",
        "\n",
        "# Use requests to retrieve data from a given URL\n",
        "response = requests.get(transcript_url)\n",
        "\n",
        "# Parse the whole HTML page using BeautifulSoup\n",
        "july5_soup = bs(response.text, 'html.parser')\n",
        "\n",
        "# Title of the parsed page\n",
        "title = july5_soup.title.string\n",
        "print(title)"
      ],
      "execution_count": null,
      "outputs": [
        {
          "output_type": "stream",
          "text": [
            "ASAP Sports Transcripts - Basketball - 2021 - NBA FINALS: BUCKS VS. SUNS - July 10\n"
          ],
          "name": "stdout"
        }
      ]
    },
    {
      "cell_type": "code",
      "metadata": {
        "colab": {
          "base_uri": "https://localhost:8080/"
        },
        "id": "i6ASwIXxUkxw",
        "outputId": "c587f86e-64e2-4096-8dcc-d6ecc3b7ab4d"
      },
      "source": [
        "links = []\n",
        "for link in july5_soup.findAll('a', attrs={'href': re.compile(\"^http://\")}):\n",
        "        links.append(link.get('href'))\n",
        "links"
      ],
      "execution_count": null,
      "outputs": [
        {
          "output_type": "execute_result",
          "data": {
            "text/plain": [
              "['http://www.asapsports.com',\n",
              " 'http://www.asapsports.com',\n",
              " 'http://www.facebook.com/pages/ASAP-Sports/122368829031',\n",
              " 'http://twitter.com/asapsports',\n",
              " 'http://www.asaptext.com',\n",
              " 'http://www.asaptext.com',\n",
              " 'http://www.asapsports.com/show_interview.php?id=167289',\n",
              " 'http://www.asapsports.com/show_interview.php?id=167286',\n",
              " 'http://www.asapsports.com/show_interview.php?id=167294',\n",
              " 'http://www.asapsports.com/show_interview.php?id=167287',\n",
              " 'http://www.asapsports.com/show_interview.php?id=167290',\n",
              " 'http://www.asapsports.com/show_interview.php?id=167288',\n",
              " 'http://www.asapsports.com/show_interview.php?id=167291',\n",
              " 'http://www.asapsports.com/show_interview.php?id=167285',\n",
              " 'http://www.asapsports.com/show_interview.php?id=167295',\n",
              " 'http://www.asapsports.com/show_interview.php?id=167292',\n",
              " 'http://www.asapsports.com/show_interview.php?id=167293',\n",
              " 'http://www.asapsports.com/show_interview.php?id=167296']"
            ]
          },
          "metadata": {
            "tags": []
          },
          "execution_count": 4
        }
      ]
    },
    {
      "cell_type": "code",
      "metadata": {
        "id": "uKRB7Vw7SuVC"
      },
      "source": [
        "interview = \"http://www.asapsports.com/show_interview.php?id=\"\n",
        "ids = [167062,167069,167071,167066,167059,167060,167070,167067,167061,167068,167064,167065,167072,167058,167063,167057]\n",
        "titles = []\n",
        "text = []\n",
        "docs = []\n",
        "for id in ids:\n",
        "    url = f'{interview}+{id}'\n",
        "    visit = requests.get(url, timeout=30)\n",
        "    html = bs(visit.text, 'html.parser')\n",
        "    title = html.title.string\n",
        "    #doc = html.get_text()\n",
        "    for para in html.find_all(\"p\", text=True):\n",
        "      doc = para.get_text()\n",
        "    #answers = html.find_all('p', text=True)\n",
        "    titles.append(title)\n",
        "    #text.append(answers)\n",
        "    docs.append(doc)\n"
      ],
      "execution_count": null,
      "outputs": []
    },
    {
      "cell_type": "code",
      "metadata": {
        "colab": {
          "base_uri": "https://localhost:8080/",
          "height": 545
        },
        "id": "Rudd8hfXO6un",
        "outputId": "7a99b604-dc96-424b-e401-8e3b476960cf"
      },
      "source": [
        "docs = pd.DataFrame(docs)\n",
        "#docs = docs[0].rename(\"Text\")\n",
        "docs"
      ],
      "execution_count": null,
      "outputs": [
        {
          "output_type": "execute_result",
          "data": {
            "text/html": [
              "<div>\n",
              "<style scoped>\n",
              "    .dataframe tbody tr th:only-of-type {\n",
              "        vertical-align: middle;\n",
              "    }\n",
              "\n",
              "    .dataframe tbody tr th {\n",
              "        vertical-align: top;\n",
              "    }\n",
              "\n",
              "    .dataframe thead th {\n",
              "        text-align: right;\n",
              "    }\n",
              "</style>\n",
              "<table border=\"1\" class=\"dataframe\">\n",
              "  <thead>\n",
              "    <tr style=\"text-align: right;\">\n",
              "      <th></th>\n",
              "      <th>0</th>\n",
              "    </tr>\n",
              "  </thead>\n",
              "  <tbody>\n",
              "    <tr>\n",
              "      <th>0</th>\n",
              "      <td>MONTY WILLIAMS:   I think the guys feel really...</td>\n",
              "    </tr>\n",
              "    <tr>\n",
              "      <th>1</th>\n",
              "      <td>So, a lot of things have to change and have to...</td>\n",
              "    </tr>\n",
              "    <tr>\n",
              "      <th>2</th>\n",
              "      <td>JEFF TEAGUE:   It's just a huge opportunity.  ...</td>\n",
              "    </tr>\n",
              "    <tr>\n",
              "      <th>3</th>\n",
              "      <td>So obviously, each series has been different, ...</td>\n",
              "    </tr>\n",
              "    <tr>\n",
              "      <th>4</th>\n",
              "      <td>All of it comes together as one.  He makes sur...</td>\n",
              "    </tr>\n",
              "    <tr>\n",
              "      <th>5</th>\n",
              "      <td>CHRIS PAUL:   Yeah, a big piece of their team....</td>\n",
              "    </tr>\n",
              "    <tr>\n",
              "      <th>6</th>\n",
              "      <td>KHRIS MIDDLETON:   I think everything we have ...</td>\n",
              "    </tr>\n",
              "    <tr>\n",
              "      <th>7</th>\n",
              "      <td>BROOK LOPEZ:   Yeah, it's definitely been biza...</td>\n",
              "    </tr>\n",
              "    <tr>\n",
              "      <th>8</th>\n",
              "      <td>CAMERON JOHNSON:   Number one, they're good pl...</td>\n",
              "    </tr>\n",
              "    <tr>\n",
              "      <th>9</th>\n",
              "      <td>JRUE HOLIDAY:   I think one of the keys is jus...</td>\n",
              "    </tr>\n",
              "    <tr>\n",
              "      <th>10</th>\n",
              "      <td>It's great to be here again and be a part of a...</td>\n",
              "    </tr>\n",
              "    <tr>\n",
              "      <th>11</th>\n",
              "      <td>The way we've tried to make sure we've put our...</td>\n",
              "    </tr>\n",
              "    <tr>\n",
              "      <th>12</th>\n",
              "      <td>MIKE BUDENHOLZER:   The playoffs, they always ...</td>\n",
              "    </tr>\n",
              "    <tr>\n",
              "      <th>13</th>\n",
              "      <td>For the Finals, we just -- we're going to be r...</td>\n",
              "    </tr>\n",
              "    <tr>\n",
              "      <th>14</th>\n",
              "      <td>Somebody said before the playoffs started like...</td>\n",
              "    </tr>\n",
              "    <tr>\n",
              "      <th>15</th>\n",
              "      <td>DEANDRE AYTON:   He's just always telling us t...</td>\n",
              "    </tr>\n",
              "  </tbody>\n",
              "</table>\n",
              "</div>"
            ],
            "text/plain": [
              "                                                    0\n",
              "0   MONTY WILLIAMS:   I think the guys feel really...\n",
              "1   So, a lot of things have to change and have to...\n",
              "2   JEFF TEAGUE:   It's just a huge opportunity.  ...\n",
              "3   So obviously, each series has been different, ...\n",
              "4   All of it comes together as one.  He makes sur...\n",
              "5   CHRIS PAUL:   Yeah, a big piece of their team....\n",
              "6   KHRIS MIDDLETON:   I think everything we have ...\n",
              "7   BROOK LOPEZ:   Yeah, it's definitely been biza...\n",
              "8   CAMERON JOHNSON:   Number one, they're good pl...\n",
              "9   JRUE HOLIDAY:   I think one of the keys is jus...\n",
              "10  It's great to be here again and be a part of a...\n",
              "11  The way we've tried to make sure we've put our...\n",
              "12  MIKE BUDENHOLZER:   The playoffs, they always ...\n",
              "13  For the Finals, we just -- we're going to be r...\n",
              "14  Somebody said before the playoffs started like...\n",
              "15  DEANDRE AYTON:   He's just always telling us t..."
            ]
          },
          "metadata": {
            "tags": []
          },
          "execution_count": 7
        }
      ]
    },
    {
      "cell_type": "code",
      "metadata": {
        "colab": {
          "base_uri": "https://localhost:8080/",
          "height": 545
        },
        "id": "yYWL4y5Lhmi-",
        "outputId": "be9ec9fb-3182-4f30-8501-d6f2123d1a64"
      },
      "source": [
        "titles = pd.DataFrame(titles)\n",
        "titles = titles[0].str.replace('ASAP Sports Transcripts - Basketball - 2021 - NBA FINALS: BUCKS VS. SUNS - ','')\n",
        "titles = pd.DataFrame(titles)\n",
        "titles"
      ],
      "execution_count": null,
      "outputs": [
        {
          "output_type": "execute_result",
          "data": {
            "text/html": [
              "<div>\n",
              "<style scoped>\n",
              "    .dataframe tbody tr th:only-of-type {\n",
              "        vertical-align: middle;\n",
              "    }\n",
              "\n",
              "    .dataframe tbody tr th {\n",
              "        vertical-align: top;\n",
              "    }\n",
              "\n",
              "    .dataframe thead th {\n",
              "        text-align: right;\n",
              "    }\n",
              "</style>\n",
              "<table border=\"1\" class=\"dataframe\">\n",
              "  <thead>\n",
              "    <tr style=\"text-align: right;\">\n",
              "      <th></th>\n",
              "      <th>0</th>\n",
              "    </tr>\n",
              "  </thead>\n",
              "  <tbody>\n",
              "    <tr>\n",
              "      <th>0</th>\n",
              "      <td>July 5 - Monty Williams</td>\n",
              "    </tr>\n",
              "    <tr>\n",
              "      <th>1</th>\n",
              "      <td>July 5 - P.J. Tucker</td>\n",
              "    </tr>\n",
              "    <tr>\n",
              "      <th>2</th>\n",
              "      <td>July 5 - Jeff Teague</td>\n",
              "    </tr>\n",
              "    <tr>\n",
              "      <th>3</th>\n",
              "      <td>July 5 - Bobby Portis</td>\n",
              "    </tr>\n",
              "    <tr>\n",
              "      <th>4</th>\n",
              "      <td>July 5 - Cameron Payne</td>\n",
              "    </tr>\n",
              "    <tr>\n",
              "      <th>5</th>\n",
              "      <td>July 5 - Chris Paul</td>\n",
              "    </tr>\n",
              "    <tr>\n",
              "      <th>6</th>\n",
              "      <td>July 5 - Khris Middleton</td>\n",
              "    </tr>\n",
              "    <tr>\n",
              "      <th>7</th>\n",
              "      <td>July 5 - Brook Lopez</td>\n",
              "    </tr>\n",
              "    <tr>\n",
              "      <th>8</th>\n",
              "      <td>July 5 - Cameron Johnson</td>\n",
              "    </tr>\n",
              "    <tr>\n",
              "      <th>9</th>\n",
              "      <td>July 5 - Jrue Holiday</td>\n",
              "    </tr>\n",
              "    <tr>\n",
              "      <th>10</th>\n",
              "      <td>July 5 - Jae Crowder</td>\n",
              "    </tr>\n",
              "    <tr>\n",
              "      <th>11</th>\n",
              "      <td>July 5 - Pat Connaughton</td>\n",
              "    </tr>\n",
              "    <tr>\n",
              "      <th>12</th>\n",
              "      <td>July 5 - Mike Budenholzer</td>\n",
              "    </tr>\n",
              "    <tr>\n",
              "      <th>13</th>\n",
              "      <td>July 5 - Mikal Bridges</td>\n",
              "    </tr>\n",
              "    <tr>\n",
              "      <th>14</th>\n",
              "      <td>July 5 - Devin Booker</td>\n",
              "    </tr>\n",
              "    <tr>\n",
              "      <th>15</th>\n",
              "      <td>July 5 - DeAndre Ayton</td>\n",
              "    </tr>\n",
              "  </tbody>\n",
              "</table>\n",
              "</div>"
            ],
            "text/plain": [
              "                            0\n",
              "0     July 5 - Monty Williams\n",
              "1        July 5 - P.J. Tucker\n",
              "2        July 5 - Jeff Teague\n",
              "3       July 5 - Bobby Portis\n",
              "4      July 5 - Cameron Payne\n",
              "5         July 5 - Chris Paul\n",
              "6    July 5 - Khris Middleton\n",
              "7        July 5 - Brook Lopez\n",
              "8    July 5 - Cameron Johnson\n",
              "9       July 5 - Jrue Holiday\n",
              "10       July 5 - Jae Crowder\n",
              "11   July 5 - Pat Connaughton\n",
              "12  July 5 - Mike Budenholzer\n",
              "13     July 5 - Mikal Bridges\n",
              "14      July 5 - Devin Booker\n",
              "15     July 5 - DeAndre Ayton"
            ]
          },
          "metadata": {
            "tags": []
          },
          "execution_count": 8
        }
      ]
    },
    {
      "cell_type": "code",
      "metadata": {
        "colab": {
          "base_uri": "https://localhost:8080/"
        },
        "id": "f09xIXE8v5AI",
        "outputId": "e76a70fb-ba40-4668-e3fb-9825635b84e4"
      },
      "source": [
        "docs = docs[0].astype(str)\n",
        "docs.dtypes"
      ],
      "execution_count": null,
      "outputs": [
        {
          "output_type": "execute_result",
          "data": {
            "text/plain": [
              "dtype('O')"
            ]
          },
          "metadata": {
            "tags": []
          },
          "execution_count": 9
        }
      ]
    },
    {
      "cell_type": "code",
      "metadata": {
        "id": "FOIfYBjfteiw"
      },
      "source": [
        "import re\n",
        "import string\n",
        "\n",
        "#Create a function to clean the text\n",
        "def clean_text_round1(text):\n",
        "    '''Make text lowercase, remove text in square brackets, remove punctuation and remove words containing numbers.'''\n",
        "    #text = text.lower()\n",
        "    text = re.sub('\\[.*?\\]', '', text)\n",
        "    text = re.sub('<p>', '', text)\n",
        "    text = re.sub('</p>', '', text)\n",
        "    text = re.sub('[%s]' % re.escape(string.punctuation), '', text)\n",
        "    text = re.sub('\\w*\\d\\w*', '', text)\n",
        "    return text\n",
        "\n",
        "round1 = lambda x: clean_text_round1(x)"
      ],
      "execution_count": null,
      "outputs": []
    },
    {
      "cell_type": "code",
      "metadata": {
        "colab": {
          "base_uri": "https://localhost:8080/",
          "height": 545
        },
        "id": "ouMnOGcStsZ7",
        "outputId": "9a453e53-ef8b-4ace-9b1f-47ccba2970d7"
      },
      "source": [
        "clean_doc = pd.DataFrame(docs.apply(round1))\n",
        "clean_doc"
      ],
      "execution_count": null,
      "outputs": [
        {
          "output_type": "execute_result",
          "data": {
            "text/html": [
              "<div>\n",
              "<style scoped>\n",
              "    .dataframe tbody tr th:only-of-type {\n",
              "        vertical-align: middle;\n",
              "    }\n",
              "\n",
              "    .dataframe tbody tr th {\n",
              "        vertical-align: top;\n",
              "    }\n",
              "\n",
              "    .dataframe thead th {\n",
              "        text-align: right;\n",
              "    }\n",
              "</style>\n",
              "<table border=\"1\" class=\"dataframe\">\n",
              "  <thead>\n",
              "    <tr style=\"text-align: right;\">\n",
              "      <th></th>\n",
              "      <th>0</th>\n",
              "    </tr>\n",
              "  </thead>\n",
              "  <tbody>\n",
              "    <tr>\n",
              "      <th>0</th>\n",
              "      <td>MONTY WILLIAMS   I think the guys feel really ...</td>\n",
              "    </tr>\n",
              "    <tr>\n",
              "      <th>1</th>\n",
              "      <td>So a lot of things have to change and have to ...</td>\n",
              "    </tr>\n",
              "    <tr>\n",
              "      <th>2</th>\n",
              "      <td>JEFF TEAGUE   Its just a huge opportunity  Its...</td>\n",
              "    </tr>\n",
              "    <tr>\n",
              "      <th>3</th>\n",
              "      <td>So obviously each series has been different bu...</td>\n",
              "    </tr>\n",
              "    <tr>\n",
              "      <th>4</th>\n",
              "      <td>All of it comes together as one  He makes sure...</td>\n",
              "    </tr>\n",
              "    <tr>\n",
              "      <th>5</th>\n",
              "      <td>CHRIS PAUL   Yeah a big piece of their team  T...</td>\n",
              "    </tr>\n",
              "    <tr>\n",
              "      <th>6</th>\n",
              "      <td>KHRIS MIDDLETON   I think everything we have b...</td>\n",
              "    </tr>\n",
              "    <tr>\n",
              "      <th>7</th>\n",
              "      <td>BROOK LOPEZ   Yeah its definitely been bizarre...</td>\n",
              "    </tr>\n",
              "    <tr>\n",
              "      <th>8</th>\n",
              "      <td>CAMERON JOHNSON   Number one theyre good playe...</td>\n",
              "    </tr>\n",
              "    <tr>\n",
              "      <th>9</th>\n",
              "      <td>JRUE HOLIDAY   I think one of the keys is just...</td>\n",
              "    </tr>\n",
              "    <tr>\n",
              "      <th>10</th>\n",
              "      <td>Its great to be here again and be a part of a ...</td>\n",
              "    </tr>\n",
              "    <tr>\n",
              "      <th>11</th>\n",
              "      <td>The way weve tried to make sure weve put our b...</td>\n",
              "    </tr>\n",
              "    <tr>\n",
              "      <th>12</th>\n",
              "      <td>MIKE BUDENHOLZER   The playoffs they always ha...</td>\n",
              "    </tr>\n",
              "    <tr>\n",
              "      <th>13</th>\n",
              "      <td>For the Finals we just  were going to be ready...</td>\n",
              "    </tr>\n",
              "    <tr>\n",
              "      <th>14</th>\n",
              "      <td>Somebody said before the playoffs started like...</td>\n",
              "    </tr>\n",
              "    <tr>\n",
              "      <th>15</th>\n",
              "      <td>DEANDRE AYTON   Hes just always telling us to ...</td>\n",
              "    </tr>\n",
              "  </tbody>\n",
              "</table>\n",
              "</div>"
            ],
            "text/plain": [
              "                                                    0\n",
              "0   MONTY WILLIAMS   I think the guys feel really ...\n",
              "1   So a lot of things have to change and have to ...\n",
              "2   JEFF TEAGUE   Its just a huge opportunity  Its...\n",
              "3   So obviously each series has been different bu...\n",
              "4   All of it comes together as one  He makes sure...\n",
              "5   CHRIS PAUL   Yeah a big piece of their team  T...\n",
              "6   KHRIS MIDDLETON   I think everything we have b...\n",
              "7   BROOK LOPEZ   Yeah its definitely been bizarre...\n",
              "8   CAMERON JOHNSON   Number one theyre good playe...\n",
              "9   JRUE HOLIDAY   I think one of the keys is just...\n",
              "10  Its great to be here again and be a part of a ...\n",
              "11  The way weve tried to make sure weve put our b...\n",
              "12  MIKE BUDENHOLZER   The playoffs they always ha...\n",
              "13  For the Finals we just  were going to be ready...\n",
              "14  Somebody said before the playoffs started like...\n",
              "15  DEANDRE AYTON   Hes just always telling us to ..."
            ]
          },
          "metadata": {
            "tags": []
          },
          "execution_count": 11
        }
      ]
    },
    {
      "cell_type": "code",
      "metadata": {
        "id": "bzQlEX3_TiPI"
      },
      "source": [
        "# Create a function to apply a second round of cleaning\n",
        "def clean_text_round2(text):\n",
        "    '''Get rid of some additional punctuation and non-sensical text that was missed the first time around.'''\n",
        "    text = re.sub('[‘’“”…]', '', text)\n",
        "    text = re.sub('\\n', '', text)\n",
        "    return text\n",
        "\n",
        "round2 = lambda x: clean_text_round2(x)"
      ],
      "execution_count": null,
      "outputs": []
    },
    {
      "cell_type": "code",
      "metadata": {
        "colab": {
          "base_uri": "https://localhost:8080/",
          "height": 545
        },
        "id": "yRPHO3yzTsUv",
        "outputId": "995bf211-588f-4320-ed3e-d874e09d32da"
      },
      "source": [
        "clean_doc = pd.DataFrame(clean_doc[0].apply(round2))\n",
        "clean_doc"
      ],
      "execution_count": null,
      "outputs": [
        {
          "output_type": "execute_result",
          "data": {
            "text/html": [
              "<div>\n",
              "<style scoped>\n",
              "    .dataframe tbody tr th:only-of-type {\n",
              "        vertical-align: middle;\n",
              "    }\n",
              "\n",
              "    .dataframe tbody tr th {\n",
              "        vertical-align: top;\n",
              "    }\n",
              "\n",
              "    .dataframe thead th {\n",
              "        text-align: right;\n",
              "    }\n",
              "</style>\n",
              "<table border=\"1\" class=\"dataframe\">\n",
              "  <thead>\n",
              "    <tr style=\"text-align: right;\">\n",
              "      <th></th>\n",
              "      <th>0</th>\n",
              "    </tr>\n",
              "  </thead>\n",
              "  <tbody>\n",
              "    <tr>\n",
              "      <th>0</th>\n",
              "      <td>MONTY WILLIAMS   I think the guys feel really ...</td>\n",
              "    </tr>\n",
              "    <tr>\n",
              "      <th>1</th>\n",
              "      <td>So a lot of things have to change and have to ...</td>\n",
              "    </tr>\n",
              "    <tr>\n",
              "      <th>2</th>\n",
              "      <td>JEFF TEAGUE   Its just a huge opportunity  Its...</td>\n",
              "    </tr>\n",
              "    <tr>\n",
              "      <th>3</th>\n",
              "      <td>So obviously each series has been different bu...</td>\n",
              "    </tr>\n",
              "    <tr>\n",
              "      <th>4</th>\n",
              "      <td>All of it comes together as one  He makes sure...</td>\n",
              "    </tr>\n",
              "    <tr>\n",
              "      <th>5</th>\n",
              "      <td>CHRIS PAUL   Yeah a big piece of their team  T...</td>\n",
              "    </tr>\n",
              "    <tr>\n",
              "      <th>6</th>\n",
              "      <td>KHRIS MIDDLETON   I think everything we have b...</td>\n",
              "    </tr>\n",
              "    <tr>\n",
              "      <th>7</th>\n",
              "      <td>BROOK LOPEZ   Yeah its definitely been bizarre...</td>\n",
              "    </tr>\n",
              "    <tr>\n",
              "      <th>8</th>\n",
              "      <td>CAMERON JOHNSON   Number one theyre good playe...</td>\n",
              "    </tr>\n",
              "    <tr>\n",
              "      <th>9</th>\n",
              "      <td>JRUE HOLIDAY   I think one of the keys is just...</td>\n",
              "    </tr>\n",
              "    <tr>\n",
              "      <th>10</th>\n",
              "      <td>Its great to be here again and be a part of a ...</td>\n",
              "    </tr>\n",
              "    <tr>\n",
              "      <th>11</th>\n",
              "      <td>The way weve tried to make sure weve put our b...</td>\n",
              "    </tr>\n",
              "    <tr>\n",
              "      <th>12</th>\n",
              "      <td>MIKE BUDENHOLZER   The playoffs they always ha...</td>\n",
              "    </tr>\n",
              "    <tr>\n",
              "      <th>13</th>\n",
              "      <td>For the Finals we just  were going to be ready...</td>\n",
              "    </tr>\n",
              "    <tr>\n",
              "      <th>14</th>\n",
              "      <td>Somebody said before the playoffs started like...</td>\n",
              "    </tr>\n",
              "    <tr>\n",
              "      <th>15</th>\n",
              "      <td>DEANDRE AYTON   Hes just always telling us to ...</td>\n",
              "    </tr>\n",
              "  </tbody>\n",
              "</table>\n",
              "</div>"
            ],
            "text/plain": [
              "                                                    0\n",
              "0   MONTY WILLIAMS   I think the guys feel really ...\n",
              "1   So a lot of things have to change and have to ...\n",
              "2   JEFF TEAGUE   Its just a huge opportunity  Its...\n",
              "3   So obviously each series has been different bu...\n",
              "4   All of it comes together as one  He makes sure...\n",
              "5   CHRIS PAUL   Yeah a big piece of their team  T...\n",
              "6   KHRIS MIDDLETON   I think everything we have b...\n",
              "7   BROOK LOPEZ   Yeah its definitely been bizarre...\n",
              "8   CAMERON JOHNSON   Number one theyre good playe...\n",
              "9   JRUE HOLIDAY   I think one of the keys is just...\n",
              "10  Its great to be here again and be a part of a ...\n",
              "11  The way weve tried to make sure weve put our b...\n",
              "12  MIKE BUDENHOLZER   The playoffs they always ha...\n",
              "13  For the Finals we just  were going to be ready...\n",
              "14  Somebody said before the playoffs started like...\n",
              "15  DEANDRE AYTON   Hes just always telling us to ..."
            ]
          },
          "metadata": {
            "tags": []
          },
          "execution_count": 13
        }
      ]
    },
    {
      "cell_type": "code",
      "metadata": {
        "colab": {
          "base_uri": "https://localhost:8080/",
          "height": 545
        },
        "id": "y2j9Rvb-Z27t",
        "outputId": "1cec4877-1eb5-4feb-aea1-cf1704ec232d"
      },
      "source": [
        "clean_doc[\"id\"] = titles\n",
        "clean_doc"
      ],
      "execution_count": null,
      "outputs": [
        {
          "output_type": "execute_result",
          "data": {
            "text/html": [
              "<div>\n",
              "<style scoped>\n",
              "    .dataframe tbody tr th:only-of-type {\n",
              "        vertical-align: middle;\n",
              "    }\n",
              "\n",
              "    .dataframe tbody tr th {\n",
              "        vertical-align: top;\n",
              "    }\n",
              "\n",
              "    .dataframe thead th {\n",
              "        text-align: right;\n",
              "    }\n",
              "</style>\n",
              "<table border=\"1\" class=\"dataframe\">\n",
              "  <thead>\n",
              "    <tr style=\"text-align: right;\">\n",
              "      <th></th>\n",
              "      <th>0</th>\n",
              "      <th>id</th>\n",
              "    </tr>\n",
              "  </thead>\n",
              "  <tbody>\n",
              "    <tr>\n",
              "      <th>0</th>\n",
              "      <td>MONTY WILLIAMS   I think the guys feel really ...</td>\n",
              "      <td>July 5 - Monty Williams</td>\n",
              "    </tr>\n",
              "    <tr>\n",
              "      <th>1</th>\n",
              "      <td>So a lot of things have to change and have to ...</td>\n",
              "      <td>July 5 - P.J. Tucker</td>\n",
              "    </tr>\n",
              "    <tr>\n",
              "      <th>2</th>\n",
              "      <td>JEFF TEAGUE   Its just a huge opportunity  Its...</td>\n",
              "      <td>July 5 - Jeff Teague</td>\n",
              "    </tr>\n",
              "    <tr>\n",
              "      <th>3</th>\n",
              "      <td>So obviously each series has been different bu...</td>\n",
              "      <td>July 5 - Bobby Portis</td>\n",
              "    </tr>\n",
              "    <tr>\n",
              "      <th>4</th>\n",
              "      <td>All of it comes together as one  He makes sure...</td>\n",
              "      <td>July 5 - Cameron Payne</td>\n",
              "    </tr>\n",
              "    <tr>\n",
              "      <th>5</th>\n",
              "      <td>CHRIS PAUL   Yeah a big piece of their team  T...</td>\n",
              "      <td>July 5 - Chris Paul</td>\n",
              "    </tr>\n",
              "    <tr>\n",
              "      <th>6</th>\n",
              "      <td>KHRIS MIDDLETON   I think everything we have b...</td>\n",
              "      <td>July 5 - Khris Middleton</td>\n",
              "    </tr>\n",
              "    <tr>\n",
              "      <th>7</th>\n",
              "      <td>BROOK LOPEZ   Yeah its definitely been bizarre...</td>\n",
              "      <td>July 5 - Brook Lopez</td>\n",
              "    </tr>\n",
              "    <tr>\n",
              "      <th>8</th>\n",
              "      <td>CAMERON JOHNSON   Number one theyre good playe...</td>\n",
              "      <td>July 5 - Cameron Johnson</td>\n",
              "    </tr>\n",
              "    <tr>\n",
              "      <th>9</th>\n",
              "      <td>JRUE HOLIDAY   I think one of the keys is just...</td>\n",
              "      <td>July 5 - Jrue Holiday</td>\n",
              "    </tr>\n",
              "    <tr>\n",
              "      <th>10</th>\n",
              "      <td>Its great to be here again and be a part of a ...</td>\n",
              "      <td>July 5 - Jae Crowder</td>\n",
              "    </tr>\n",
              "    <tr>\n",
              "      <th>11</th>\n",
              "      <td>The way weve tried to make sure weve put our b...</td>\n",
              "      <td>July 5 - Pat Connaughton</td>\n",
              "    </tr>\n",
              "    <tr>\n",
              "      <th>12</th>\n",
              "      <td>MIKE BUDENHOLZER   The playoffs they always ha...</td>\n",
              "      <td>July 5 - Mike Budenholzer</td>\n",
              "    </tr>\n",
              "    <tr>\n",
              "      <th>13</th>\n",
              "      <td>For the Finals we just  were going to be ready...</td>\n",
              "      <td>July 5 - Mikal Bridges</td>\n",
              "    </tr>\n",
              "    <tr>\n",
              "      <th>14</th>\n",
              "      <td>Somebody said before the playoffs started like...</td>\n",
              "      <td>July 5 - Devin Booker</td>\n",
              "    </tr>\n",
              "    <tr>\n",
              "      <th>15</th>\n",
              "      <td>DEANDRE AYTON   Hes just always telling us to ...</td>\n",
              "      <td>July 5 - DeAndre Ayton</td>\n",
              "    </tr>\n",
              "  </tbody>\n",
              "</table>\n",
              "</div>"
            ],
            "text/plain": [
              "                                                    0                         id\n",
              "0   MONTY WILLIAMS   I think the guys feel really ...    July 5 - Monty Williams\n",
              "1   So a lot of things have to change and have to ...       July 5 - P.J. Tucker\n",
              "2   JEFF TEAGUE   Its just a huge opportunity  Its...       July 5 - Jeff Teague\n",
              "3   So obviously each series has been different bu...      July 5 - Bobby Portis\n",
              "4   All of it comes together as one  He makes sure...     July 5 - Cameron Payne\n",
              "5   CHRIS PAUL   Yeah a big piece of their team  T...        July 5 - Chris Paul\n",
              "6   KHRIS MIDDLETON   I think everything we have b...   July 5 - Khris Middleton\n",
              "7   BROOK LOPEZ   Yeah its definitely been bizarre...       July 5 - Brook Lopez\n",
              "8   CAMERON JOHNSON   Number one theyre good playe...   July 5 - Cameron Johnson\n",
              "9   JRUE HOLIDAY   I think one of the keys is just...      July 5 - Jrue Holiday\n",
              "10  Its great to be here again and be a part of a ...       July 5 - Jae Crowder\n",
              "11  The way weve tried to make sure weve put our b...   July 5 - Pat Connaughton\n",
              "12  MIKE BUDENHOLZER   The playoffs they always ha...  July 5 - Mike Budenholzer\n",
              "13  For the Finals we just  were going to be ready...     July 5 - Mikal Bridges\n",
              "14  Somebody said before the playoffs started like...      July 5 - Devin Booker\n",
              "15  DEANDRE AYTON   Hes just always telling us to ...     July 5 - DeAndre Ayton"
            ]
          },
          "metadata": {
            "tags": []
          },
          "execution_count": 14
        }
      ]
    },
    {
      "cell_type": "code",
      "metadata": {
        "id": "l58sXBGsUMY-"
      },
      "source": [
        "from sklearn.feature_extraction.text import CountVectorizer\n",
        "\n",
        "#DTM for question 1\n",
        "#cv = CountVectorizer(stop_words='english')\n",
        "#clean_cv = cv.fit_transform(clean_doc[0])\n",
        "#clean_dtm = pd.DataFrame(clean_cv.toarray(), columns=cv.get_feature_names())\n",
        "#clean_dtm.index = titles.index\n",
        "#clean_dtm[[\"id\"]]= titles[0]\n",
        "#clean_dtm"
      ],
      "execution_count": null,
      "outputs": []
    },
    {
      "cell_type": "code",
      "metadata": {
        "id": "kQRexyFaU_pK"
      },
      "source": [
        "#pickle it for later use\n",
        "clean_dtm.to_pickle(\"drive/My Drive/Colab Notebooks/NBA Finals Sentiment Analysis/clean_dtm.pkl\")\n",
        "clean_doc.to_csv(\"drive/My Drive/Colab Notebooks/NBA Finals Sentiment Analysis/clean_doc.csv\")\n",
        "#!cp redo_dtm1.csv \"drive/My Drive/Colab Notebooks/\"\n",
        "#!cp redo_dtm1.pkl \"drive/My Drive/Colab Notebooks/\""
      ],
      "execution_count": null,
      "outputs": []
    }
  ]
}